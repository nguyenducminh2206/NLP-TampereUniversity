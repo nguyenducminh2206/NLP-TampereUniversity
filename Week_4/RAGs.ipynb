{
 "cells": [
  {
   "cell_type": "markdown",
   "metadata": {},
   "source": [
    "# NLP Exercise 4: Retrieval Augmented Generation and BERTs\n",
    "---\n"
   ]
  },
  {
   "cell_type": "markdown",
   "metadata": {},
   "source": [
    "## RAGs"
   ]
  },
  {
   "cell_type": "markdown",
   "metadata": {},
   "source": [
    "To use LLMs locally, download it from here:\n",
    "\n",
    "https://ollama.com/\n",
    "\n",
    "Then you can pull LLMs models by pull it from your terminal:\n",
    "\n",
    "`ollama pull mistral`\n",
    "\n",
    "And to run it:\n",
    "\n",
    "`ollama run mistral`\n"
   ]
  },
  {
   "cell_type": "markdown",
   "metadata": {},
   "source": [
    "RAGs pipeline"
   ]
  },
  {
   "cell_type": "markdown",
   "metadata": {},
   "source": [
    "![alt text](rag_pipeline-1.gif)"
   ]
  },
  {
   "cell_type": "markdown",
   "metadata": {},
   "source": [
    "## Documents and DataBase Preparation"
   ]
  },
  {
   "cell_type": "markdown",
   "metadata": {},
   "source": [
    "We will use the boardgame rules as the documents for our RAGs system"
   ]
  },
  {
   "cell_type": "code",
   "execution_count": 4,
   "metadata": {},
   "outputs": [],
   "source": [
    "import os\n",
    "import shutil\n",
    "from langchain.document_loaders.pdf import PyPDFDirectoryLoader\n",
    "from langchain_text_splitters import RecursiveCharacterTextSplitter\n",
    "from langchain.schema.document import Document\n",
    "from langchain.vectorstores.chroma import Chroma"
   ]
  },
  {
   "cell_type": "code",
   "execution_count": 5,
   "metadata": {},
   "outputs": [],
   "source": [
    "# Define chroma and data path\n",
    "chroma_path = 'Week_4\\chroma'\n",
    "data_path = 'Week_4\\data'"
   ]
  },
  {
   "cell_type": "code",
   "execution_count": 6,
   "metadata": {},
   "outputs": [],
   "source": [
    "# Load documents\n",
    "def load_documents():\n",
    "    document_loader = PyPDFDirectoryLoader(data_path)\n",
    "    return document_loader.load()\n",
    "\n",
    "documents = load_documents()"
   ]
  },
  {
   "cell_type": "code",
   "execution_count": 7,
   "metadata": {},
   "outputs": [],
   "source": [
    "# Chunk documents\n",
    "def split_documents(documents: list[Document]):\n",
    "    splitter = RecursiveCharacterTextSplitter(\n",
    "        chunk_size=800,\n",
    "        chunk_overlap=80,\n",
    "        length_function=len,\n",
    "        is_separator_regex=False\n",
    "    )\n",
    "    return splitter.split_documents(documents)\n",
    "\n",
    "chunks = split_documents(documents)"
   ]
  },
  {
   "cell_type": "code",
   "execution_count": 8,
   "metadata": {},
   "outputs": [],
   "source": [
    "# Get chunk ids\n",
    "def calculate_chunk_ids(chunks):\n",
    "\n",
    "    # This will create IDs like \"data/monopoly.pdf:6:2\"\n",
    "    # Page Source : Page Number : Chunk Index\n",
    "\n",
    "    last_page_id = None\n",
    "    current_chunk_index = 0\n",
    "\n",
    "    for chunk in chunks:\n",
    "        source = chunk.metadata.get(\"source\")\n",
    "        page = chunk.metadata.get(\"page\")\n",
    "        current_page_id = f\"{source}:{page}\"\n",
    "\n",
    "        # If the page ID is the same as the last one, increment the index.\n",
    "        if current_page_id == last_page_id:\n",
    "            current_chunk_index += 1\n",
    "        else:\n",
    "            current_chunk_index = 0\n",
    "\n",
    "        # Calculate the chunk ID.\n",
    "        chunk_id = f\"{current_page_id}:{current_chunk_index}\"\n",
    "        last_page_id = current_page_id\n",
    "\n",
    "        # Add it to the page meta-data.\n",
    "        chunk.metadata[\"id\"] = chunk_id\n",
    "\n",
    "    return chunks"
   ]
  },
  {
   "cell_type": "markdown",
   "metadata": {},
   "source": [
    "## Vector Embedding"
   ]
  },
  {
   "cell_type": "markdown",
   "metadata": {},
   "source": [
    "In this section, we will use the `OllamaEmbeddings` model from the `langchain_community` library to embed our documents. This model will help us convert the text data into numerical vectors, which can be used for various downstream tasks such as similarity search, clustering, and more.\n",
    "\n",
    "The `OllamaEmbeddings` model is initialized with the `nomic-embed-text` model, which is specifically designed for embedding text data. "
   ]
  },
  {
   "cell_type": "code",
   "execution_count": 1,
   "metadata": {},
   "outputs": [],
   "source": [
    "from langchain_community.embeddings.ollama import OllamaEmbeddings\n",
    "\n",
    "def embedding_function():\n",
    "    embeddings = OllamaEmbeddings(model='nomic-embed-text')\n",
    "    return embeddings"
   ]
  },
  {
   "cell_type": "markdown",
   "metadata": {},
   "source": [
    "### Add chunking documents to the Chroma DB using the `OllamaEmbeddings`"
   ]
  },
  {
   "cell_type": "code",
   "execution_count": 9,
   "metadata": {},
   "outputs": [],
   "source": [
    "def add_to_chroma(chunks: list[Document]):\n",
    "    # Load the database\n",
    "    db = Chroma(\n",
    "        persist_directory=chroma_path, embedding_function=embedding_function()\n",
    "    )\n",
    "\n",
    "    chunks_ids = calculate_chunk_ids(chunks)\n",
    "\n",
    "    # Add or update the documents\n",
    "    existing_items = db.get(include=[])\n",
    "    existing_ids = set(existing_items[\"ids\"])\n",
    "    print(f\"Number of existing documents in DB: {len(existing_ids)}\")\n",
    "\n",
    "    new_chunks = []\n",
    "    for chunk in chunks_ids:\n",
    "        if chunk.metadata[\"id\"] not in existing_ids:\n",
    "            new_chunks.append(chunk)\n",
    "\n",
    "    if len(new_chunks):\n",
    "        print(f\"Adding new documents: {len(new_chunks)}\")\n",
    "        new_chunks_ids = [chunk.metadata[\"id\"] for chunk in new_chunks]\n",
    "        db.add_documents(new_chunks, ids=new_chunks_ids)\n",
    "        db.persist()\n",
    "    else: \n",
    "        print(\"No new documents to add\")"
   ]
  },
  {
   "cell_type": "code",
   "execution_count": 11,
   "metadata": {},
   "outputs": [
    {
     "name": "stdout",
     "output_type": "stream",
     "text": [
      "Number of existing documents in DB: 47\n",
      "No new documents to add\n"
     ]
    }
   ],
   "source": [
    "add_to_chroma(chunks)"
   ]
  },
  {
   "cell_type": "markdown",
   "metadata": {},
   "source": [
    "## Query Data"
   ]
  },
  {
   "cell_type": "markdown",
   "metadata": {},
   "source": [
    "In this section, we will query the data using the RAGs system. We will use the `OllamaEmbeddings` model to embed the query text and search the Chroma database for relevant documents. The results will be formatted and displayed along with their sources.\n",
    "\n",
    "The following steps will be performed:\n",
    "1. Prepare the Chroma database with the embedding function.\n",
    "2. Search the database for the most similar documents to the query text.\n",
    "3. Format the results and display the response along with the sources.\n",
    "\n",
    "The `query_rag` function will handle these steps and return the response."
   ]
  },
  {
   "cell_type": "code",
   "execution_count": 23,
   "metadata": {},
   "outputs": [],
   "source": [
    "from langchain.vectorstores.chroma import Chroma\n",
    "from langchain.prompts import ChatPromptTemplate\n",
    "from langchain_community.llms.ollama import Ollama\n",
    "\n",
    "chroma_path = 'chroma'\n",
    "\n",
    "PROMPT_TEMPLATE = \"\"\"\n",
    "Answer the question based only on the following context:\n",
    "\n",
    "{context}\n",
    "\n",
    "---\n",
    "\n",
    "Answer the question based on the above context: {question}\n",
    "\"\"\""
   ]
  },
  {
   "cell_type": "code",
   "execution_count": 34,
   "metadata": {},
   "outputs": [],
   "source": [
    "def query_rag(query_text: str):\n",
    "    # Prepare the DB.\n",
    "    embedding = embedding_function()\n",
    "    db = Chroma(persist_directory=chroma_path, embedding_function=embedding)\n",
    "\n",
    "    # Search the DB.\n",
    "    results = db.similarity_search_with_score(query_text, k=3)\n",
    "\n",
    "    # Combine the results into a single context string.\n",
    "    context_text = \"\\n\\n---\\n\\n\".join([doc.page_content for doc, _score in results])\n",
    "    \n",
    "    # Format the prompt with the context and the query.\n",
    "    prompt_template = ChatPromptTemplate.from_template(PROMPT_TEMPLATE)\n",
    "    prompt = prompt_template.format(context=context_text, question=query_text)\n",
    "    print(prompt)\n",
    "\n",
    "    # Invoke the model with the formatted prompt.\n",
    "    model = Ollama(model=\"mistral\")\n",
    "    response_text = model.invoke(prompt)\n",
    "\n",
    "    # Extract the sources from the results.\n",
    "    sources = [doc.metadata.get(\"id\", None) for doc, _score in results]\n",
    "    print(response_text)\n",
    "    print(sources)"
   ]
  },
  {
   "cell_type": "code",
   "execution_count": 35,
   "metadata": {},
   "outputs": [
    {
     "name": "stdout",
     "output_type": "stream",
     "text": [
      "Human: \n",
      "Answer the question based only on the following context:\n",
      "\n",
      "complete color-group, hdshe may buy a hotel from the Bank and erect \n",
      "it on any property of the color-group. Hdshe returns the four houses \n",
      "from that property to the Bank and pays the price for the hotel as shown \n",
      "on the Ttle Deed card. Only one hotel may be erected on any one \n",
      "property. \n",
      "BUILDING SHORTAGES: When the Bank has no houses to sell, players \n",
      "wishing to build must wait for some player to return or sell histher \n",
      "houses to the Bank before building. If there are a limited number of \n",
      "houses and hotels available and two or more players wish to buy more \n",
      "than the Bank has, the houses or hotels must be sold at auction to the \n",
      "highest bidder.\n",
      "\n",
      "---\n",
      "\n",
      "Following the above rules, you may buy and erect at any time as \n",
      "many houses as your judgement and financial standing will allow. But \n",
      "you must build evenly, i.e., you cannot erect more than one house on \n",
      "any one property of any color-group until you have built one house on \n",
      "wery property of that group. You may then begin on the second row \n",
      "of houses, and so on, up to a limit of four houses to a property. For \n",
      "example, you cannot build three houses on one property if you have \n",
      "only one house on another property of that group. \n",
      "As you build evenly, you must also break down evenly ifyou sell \n",
      "houses back to the Bank (see SELLING PROPERTY). \n",
      "HOTELS: When a player has four houses on each property of a \n",
      "complete color-group, hdshe may buy a hotel from the Bank and erect\n",
      "\n",
      "---\n",
      "\n",
      "group (e.g., Boardwalk and Park Place; or Connecticut, Vermont and \n",
      "Oriental Avenues) because the owner may then charge double rent \n",
      "for unimproved properties in that color-group. This rule applies to \n",
      "unmortgaged properties even if another property in that color-group is \n",
      "mortgaged. \n",
      "It is even more advantageous to have houses or hotels on properties \n",
      "because rents are much higher than for unimproved properties. \n",
      "The owner may not collect the rent if he/she fails to ask for it before \n",
      "the second player following throws the dice. \n",
      "\"CHANCE\" AND \"COMMUNITY CHEST\": When you land on either of \n",
      "these spaces, take the top card from the deck indicated, follow the\n",
      "\n",
      "---\n",
      "\n",
      "Answer the question based on the above context: How do I build a hotel?\n",
      "\n",
      " To build a hotel in the given context, you need to fulfill the following conditions:\n",
      "\n",
      "1. First, ensure that you have a complete color-group of properties (for example, Boardwalk and Park Place or Connecticut, Vermont, and Oriental Avenues).\n",
      "\n",
      "2. You must have four houses on each property of this group.\n",
      "\n",
      "3. Once you meet these conditions, you can purchase a hotel from the Bank.\n",
      "['data\\\\monopoly.pdf:5:2', 'data\\\\monopoly.pdf:5:1', 'data\\\\monopoly.pdf:3:2']\n"
     ]
    }
   ],
   "source": [
    "query_rag(\"How do I build a hotel?\")"
   ]
  },
  {
   "cell_type": "markdown",
   "metadata": {},
   "source": [
    "# BERTS"
   ]
  },
  {
   "cell_type": "markdown",
   "metadata": {},
   "source": [
    "BERTs can be used on a wide variety of language tasks:\n",
    "1.   Sentiment Analysis\n",
    "2.   Question Answering\n",
    "3.   Text Prediction\n",
    "4.   Text Generation\n",
    "5.   Summarization\n",
    "\n",
    "With a very few lines of code, BERTs can do all of the tasks above!"
   ]
  },
  {
   "cell_type": "code",
   "execution_count": 38,
   "metadata": {},
   "outputs": [],
   "source": [
    "from transformers import pipeline"
   ]
  },
  {
   "cell_type": "code",
   "execution_count": 43,
   "metadata": {},
   "outputs": [
    {
     "name": "stderr",
     "output_type": "stream",
     "text": [
      "No model was supplied, defaulted to distilbert/distilbert-base-uncased-finetuned-sst-2-english and revision 714eb0f (https://huggingface.co/distilbert/distilbert-base-uncased-finetuned-sst-2-english).\n",
      "Using a pipeline without specifying a model name and revision in production is not recommended.\n",
      "Device set to use cpu\n"
     ]
    },
    {
     "data": {
      "text/plain": [
       "[{'label': 'POSITIVE', 'score': 0.9806610345840454}]"
      ]
     },
     "execution_count": 43,
     "metadata": {},
     "output_type": "execute_result"
    }
   ],
   "source": [
    "# Sentiment Analysis\n",
    "classifier = pipeline(\"sentiment-analysis\")\n",
    "classifier(\"I love Vietnam\")"
   ]
  },
  {
   "cell_type": "code",
   "execution_count": 50,
   "metadata": {},
   "outputs": [
    {
     "name": "stderr",
     "output_type": "stream",
     "text": [
      "Device set to use cpu\n"
     ]
    },
    {
     "data": {
      "text/plain": [
       "[{'score': 0.08234003931283951,\n",
       "  'token': 30412,\n",
       "  'token_str': ' mathematical',\n",
       "  'sequence': 'This course will teach you about mathematical models.'},\n",
       " {'score': 0.04040270298719406,\n",
       "  'token': 209,\n",
       "  'token_str': ' these',\n",
       "  'sequence': 'This course will teach you about these models.'},\n",
       " {'score': 0.03654172271490097,\n",
       "  'token': 23805,\n",
       "  'token_str': ' simulation',\n",
       "  'sequence': 'This course will teach you about simulation models.'}]"
      ]
     },
     "execution_count": 50,
     "metadata": {},
     "output_type": "execute_result"
    }
   ],
   "source": [
    "# Fill Mask\n",
    "unmask = pipeline(\"fill-mask\", model=\"roberta-base\")\n",
    "unmask(\"This course will teach you about <mask> models.\", top_k=3)"
   ]
  },
  {
   "cell_type": "code",
   "execution_count": 55,
   "metadata": {},
   "outputs": [
    {
     "name": "stderr",
     "output_type": "stream",
     "text": [
      "No model was supplied, defaulted to sshleifer/distilbart-cnn-12-6 and revision a4f8f3e (https://huggingface.co/sshleifer/distilbart-cnn-12-6).\n",
      "Using a pipeline without specifying a model name and revision in production is not recommended.\n",
      "Device set to use cpu\n"
     ]
    },
    {
     "data": {
      "text/plain": [
       "[{'summary_text': ' Vietnam is one of the two Marxist–Leninist states in Southeast Asia . Its capital is Hanoi and its largest city is Ho Chi Minh City . Vietnam is a developing country with a lower-middle-income economy . It has high levels of corruption, censorship, environmental issues and a poor human rights record .'}]"
      ]
     },
     "execution_count": 55,
     "metadata": {},
     "output_type": "execute_result"
    }
   ],
   "source": [
    "# Summarization\n",
    "summarizer = pipeline(\"summarization\")\n",
    "summarizer(\n",
    "    \"\"\"\n",
    "    Vietnam, officially the Socialist Republic of Vietnam,[g][h] is a country at the eastern edge of mainland Southeast Asia, with an area of about 331,000 square kilometres (128,000 sq mi) and a population of over 100 million, making it the world's fifteenth-most populous country. One of the two Marxist–Leninist states in Southeast Asia,[i] Vietnam shares land borders with China to the north, and Laos and Cambodia to the west. It shares maritime borders with Thailand through the Gulf of Thailand, and the Philippines, Indonesia, and Malaysia through the South China Sea. \n",
    "    Its capital is Hanoi and its largest city is Ho Chi Minh City.\n",
    "    Vietnam was inhabited by the Paleolithic age, with states established in the first millennium BC on the Red River Delta in modern-day northern Vietnam. \n",
    "    The Han dynasty annexed Northern and Central Vietnam, which were subsequently under Chinese rule from 111 BC until the first dynasty emerged in 939. \n",
    "    Successive monarchical dynasties absorbed Chinese influences through Confucianism and Buddhism, and expanded southward to the Mekong Delta, conquering Champa. \n",
    "    During most of the 17th and 18th centuries, Vietnam was effectively divided into two domains of Đàng Trong and Đàng Ngoài. \n",
    "    The Nguyễn—the last imperial dynasty—surrendered to France in 1883. In 1887, its territory was integrated into French Indochina as three separate regions. \n",
    "    In the immediate aftermath of World War II, the nationalist coalition Viet Minh, led by the communist revolutionary Ho Chi Minh, launched the August Revolution and declared Vietnam's independence from the Empire of Japan in 1945.\n",
    "    Vietnam went through prolonged warfare in the 20th century. After World War II, France returned to reclaim colonial power in the First Indochina War, from which Vietnam emerged victorious in 1954. \n",
    "    As a result of the treaties signed between the Viet Minh and France, Vietnam was also separated into two parts. The Vietnam War began shortly after, between the communist North Vietnam, supported by the Soviet Union and China, and the anti-communist South Vietnam, supported by the United States.\n",
    "    Upon the North Vietnamese victory in 1975, Vietnam reunified as a unitary socialist state under the Communist Party of Vietnam (CPV) in 1976. An ineffective planned economy, a trade embargo by the West, and wars with Cambodia and China crippled the country further.\n",
    "    In 1986, the CPV initiated economic and political reforms similar to the Chinese economic reform, transforming the country to a socialist-oriented market economy. The reforms facilitated Vietnamese reintegration into the global economy and politics.\n",
    "    Vietnam is a developing country with a lower-middle-income economy. It has high levels of corruption, censorship, environmental issues and a poor human rights record. \n",
    "    It is part of international and intergovernmental institutions including the ASEAN, the APEC, the Non-Aligned Movement, the OIF, and the WTO. It has assumed a seat on the United Nations Security Council twice.\n",
    "    \"\"\"\n",
    ")"
   ]
  }
 ],
 "metadata": {
  "kernelspec": {
   "display_name": "venv",
   "language": "python",
   "name": "python3"
  },
  "language_info": {
   "codemirror_mode": {
    "name": "ipython",
    "version": 3
   },
   "file_extension": ".py",
   "mimetype": "text/x-python",
   "name": "python",
   "nbconvert_exporter": "python",
   "pygments_lexer": "ipython3",
   "version": "3.11.2"
  }
 },
 "nbformat": 4,
 "nbformat_minor": 2
}
