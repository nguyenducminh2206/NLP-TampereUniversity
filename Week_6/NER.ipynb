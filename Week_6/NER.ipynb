{
  "cells": [
    {
      "cell_type": "markdown",
      "metadata": {
        "id": "view-in-github",
        "colab_type": "text"
      },
      "source": [
        "<a href=\"https://colab.research.google.com/github/nguyenducminh2206/NLP-TampereUniversity/blob/main/Week_6/NER.ipynb\" target=\"_parent\"><img src=\"https://colab.research.google.com/assets/colab-badge.svg\" alt=\"Open In Colab\"/></a>"
      ]
    },
    {
      "cell_type": "markdown",
      "metadata": {
        "id": "XsAZHl22_jqg"
      },
      "source": [
        "# NLP Exercise 6: Named Entity Recognition (NER)\n",
        "---"
      ]
    },
    {
      "cell_type": "markdown",
      "metadata": {
        "id": "qrWFzijg_jqh"
      },
      "source": [
        "Part-of-speech tagging (POS): mark each word in a sentence as corresponding to a particular part of speech.\n",
        "\n",
        "- O: the word does not correspond to any entity.\n",
        "- B-PER/I-PER: corresponds to the begginning/inside a person entity.\n",
        "- B-ORG/I-ORG: corresponds to the begginning/inside an organization entity.\n",
        "- B-LOC/I-LOC: corresponds to the begginning/inside a location entity.\n",
        "- B-MISC/I-MISC: corresponds to the begginning/inside a miscellaneous entity."
      ]
    },
    {
      "cell_type": "markdown",
      "metadata": {
        "id": "Y1EdnmOW_jqi"
      },
      "source": [
        "You can get more information about the dataset we used below in the link:\n",
        "https://huggingface.co/datasets/eriktks/conll2003"
      ]
    },
    {
      "cell_type": "code",
      "source": [
        "!pip install transformers datasets evaluate"
      ],
      "metadata": {
        "id": "ZJqj80cc_luc"
      },
      "execution_count": null,
      "outputs": []
    },
    {
      "cell_type": "markdown",
      "metadata": {
        "id": "R48DrfLp_jqi"
      },
      "source": [
        "## Import libraries"
      ]
    },
    {
      "cell_type": "code",
      "execution_count": 21,
      "metadata": {
        "id": "aF42kW4k_jqi"
      },
      "outputs": [],
      "source": [
        "import datasets\n",
        "import numpy as np\n",
        "import evaluate\n",
        "from transformers import BertTokenizerFast\n",
        "from transformers import DataCollatorForTokenClassification\n",
        "from transformers import AutoModelForTokenClassification\n",
        "from transformers import Trainer, TrainingArguments"
      ]
    },
    {
      "cell_type": "markdown",
      "metadata": {
        "id": "pmttTazf_jqj"
      },
      "source": [
        "## Understanding the data"
      ]
    },
    {
      "cell_type": "code",
      "execution_count": 22,
      "metadata": {
        "id": "2X85fU0f_jqj"
      },
      "outputs": [],
      "source": [
        "# Load Datasets\n",
        "ner_dataset = datasets.load_dataset('conll2003', trust_remote_code=True)"
      ]
    },
    {
      "cell_type": "code",
      "execution_count": 23,
      "metadata": {
        "colab": {
          "base_uri": "https://localhost:8080/"
        },
        "id": "fy7zD-4D_jqj",
        "outputId": "744fee4c-3ebd-48d3-b223-c3434306945a"
      },
      "outputs": [
        {
          "output_type": "execute_result",
          "data": {
            "text/plain": [
              "DatasetDict({\n",
              "    train: Dataset({\n",
              "        features: ['id', 'tokens', 'pos_tags', 'chunk_tags', 'ner_tags'],\n",
              "        num_rows: 14041\n",
              "    })\n",
              "    validation: Dataset({\n",
              "        features: ['id', 'tokens', 'pos_tags', 'chunk_tags', 'ner_tags'],\n",
              "        num_rows: 3250\n",
              "    })\n",
              "    test: Dataset({\n",
              "        features: ['id', 'tokens', 'pos_tags', 'chunk_tags', 'ner_tags'],\n",
              "        num_rows: 3453\n",
              "    })\n",
              "})"
            ]
          },
          "metadata": {},
          "execution_count": 23
        }
      ],
      "source": [
        "ner_dataset"
      ]
    },
    {
      "cell_type": "code",
      "execution_count": 24,
      "metadata": {
        "colab": {
          "base_uri": "https://localhost:8080/"
        },
        "id": "Dm6ncNh6_jqk",
        "outputId": "0182536e-c1c4-4418-e24a-154e8b415b60"
      },
      "outputs": [
        {
          "output_type": "execute_result",
          "data": {
            "text/plain": [
              "{'id': '0',\n",
              " 'tokens': ['EU',\n",
              "  'rejects',\n",
              "  'German',\n",
              "  'call',\n",
              "  'to',\n",
              "  'boycott',\n",
              "  'British',\n",
              "  'lamb',\n",
              "  '.'],\n",
              " 'pos_tags': [22, 42, 16, 21, 35, 37, 16, 21, 7],\n",
              " 'chunk_tags': [11, 21, 11, 12, 21, 22, 11, 12, 0],\n",
              " 'ner_tags': [3, 0, 7, 0, 0, 0, 7, 0, 0]}"
            ]
          },
          "metadata": {},
          "execution_count": 24
        }
      ],
      "source": [
        "ner_dataset['train'][0]"
      ]
    },
    {
      "cell_type": "code",
      "execution_count": 25,
      "metadata": {
        "id": "zBHNfDWJ_jqk"
      },
      "outputs": [],
      "source": [
        "# Define tokenizer\n",
        "tokenizer = BertTokenizerFast.from_pretrained('bert-base-uncased')"
      ]
    },
    {
      "cell_type": "code",
      "execution_count": 26,
      "metadata": {
        "colab": {
          "base_uri": "https://localhost:8080/"
        },
        "id": "zLJcJ1ci_jqk",
        "outputId": "773425cd-51a9-41a1-f679-084b9c5895e9"
      },
      "outputs": [
        {
          "output_type": "stream",
          "name": "stdout",
          "text": [
            "{'input_ids': [101, 7327, 19164, 2446, 2655, 2000, 17757, 2329, 12559, 1012, 102], 'token_type_ids': [0, 0, 0, 0, 0, 0, 0, 0, 0, 0, 0], 'attention_mask': [1, 1, 1, 1, 1, 1, 1, 1, 1, 1, 1]} \n",
            "\n",
            "['[CLS]', 'eu', 'rejects', 'german', 'call', 'to', 'boycott', 'british', 'lamb', '.', '[SEP]'] \n",
            "\n",
            "[None, 0, 1, 2, 3, 4, 5, 6, 7, 8, None]\n"
          ]
        }
      ],
      "source": [
        "# Tokenize a sample to see the output\n",
        "text = ner_dataset['train'][0]\n",
        "tokenized_text = tokenizer(text['tokens'], is_split_into_words=True)\n",
        "tokens = tokenizer.convert_ids_to_tokens(tokenized_text['input_ids'])\n",
        "word_ids = tokenized_text.word_ids()\n",
        "\n",
        "print(f\"{tokenized_text} \\n\")\n",
        "print(f\"{tokens} \\n\")\n",
        "print(word_ids)"
      ]
    },
    {
      "cell_type": "markdown",
      "metadata": {
        "id": "8MiElWKE_jqk"
      },
      "source": [
        "## Assigning Labels to Tokens\n"
      ]
    },
    {
      "cell_type": "code",
      "execution_count": 27,
      "metadata": {
        "id": "qx_RDDK5_jqk"
      },
      "outputs": [],
      "source": [
        "def tokenize_and_align_labels(examples, label_all_tokens=True):\n",
        "    tokenized_inputs = tokenizer(examples[\"tokens\"], truncation=True, is_split_into_words=True)\n",
        "    labels = []\n",
        "    for i, label in enumerate(examples[\"ner_tags\"]):\n",
        "        word_ids = tokenized_inputs.word_ids(batch_index=i)\n",
        "        # word_ids() => Return a list mapping the tokens\n",
        "        # to their actual word in the initial sentence.\n",
        "        # It Returns a list indicating the word corresponding to each token.\n",
        "        previous_word_idx = None\n",
        "        label_ids = []\n",
        "        # Special tokens like `` and `<\\s>` are originally mapped to None\n",
        "        # We need to set the label to -100 so they are automatically ignored in the loss function.\n",
        "        for word_idx in word_ids:\n",
        "            if word_idx is None:\n",
        "                # set –100 as the label for these special tokens\n",
        "                label_ids.append(-100)\n",
        "            # For the other tokens in a word, we set the label to either the current label or -100, depending on\n",
        "            # the label_all_tokens flag.\n",
        "            elif word_idx != previous_word_idx:\n",
        "                # if current word_idx is != prev then its the most regular case\n",
        "                # and add the corresponding token\n",
        "                label_ids.append(label[word_idx])\n",
        "            else:\n",
        "                # to take care of sub-words which have the same word_idx\n",
        "                # set -100 as well for them, but only if label_all_tokens == False\n",
        "                label_ids.append(label[word_idx] if label_all_tokens else -100)\n",
        "                # mask the subword representations after the first subword\n",
        "\n",
        "            previous_word_idx = word_idx\n",
        "        labels.append(label_ids)\n",
        "    tokenized_inputs[\"labels\"] = labels\n",
        "    return tokenized_inputs"
      ]
    },
    {
      "cell_type": "code",
      "execution_count": 28,
      "metadata": {
        "colab": {
          "base_uri": "https://localhost:8080/",
          "height": 49,
          "referenced_widgets": [
            "d5927ba08549449b82139a7b911405a0",
            "1b09ed04e2ab4aff93d9b94a6c78bede",
            "3394e4c9f70e4874bd9c327c905ea198",
            "fbf41b9b66e24edc994431766c9e1f88",
            "ee3500acc5e340ee9860d422712ef3b2",
            "6a07f1e4e7e541f0a97a097ece001408",
            "6a2ff8c619da4f12aa195a3444a276f0",
            "82cb1715864440b3b1004555fada80d7",
            "449726b23e5d47c4887a0121bb2fd5b2",
            "58109704fb0a4585bc04a68edf0f519c",
            "75af31922c9d43f7860b9d48c895d6f3"
          ]
        },
        "id": "vKuAU6RX_jql",
        "outputId": "8c5b0802-6447-4bfc-9958-e2bbc8ffe5ec"
      },
      "outputs": [
        {
          "output_type": "display_data",
          "data": {
            "text/plain": [
              "Map:   0%|          | 0/3250 [00:00<?, ? examples/s]"
            ],
            "application/vnd.jupyter.widget-view+json": {
              "version_major": 2,
              "version_minor": 0,
              "model_id": "d5927ba08549449b82139a7b911405a0"
            }
          },
          "metadata": {}
        }
      ],
      "source": [
        "# Apply the function to the entire dataset\n",
        "tokenized_dataset = ner_dataset.map(tokenize_and_align_labels, batched=True)"
      ]
    },
    {
      "cell_type": "code",
      "execution_count": 29,
      "metadata": {
        "colab": {
          "base_uri": "https://localhost:8080/"
        },
        "id": "hBxJoQdQ_jql",
        "outputId": "2c42d597-7550-4d3c-b367-9608873de634"
      },
      "outputs": [
        {
          "output_type": "execute_result",
          "data": {
            "text/plain": [
              "{'id': '0',\n",
              " 'tokens': ['EU',\n",
              "  'rejects',\n",
              "  'German',\n",
              "  'call',\n",
              "  'to',\n",
              "  'boycott',\n",
              "  'British',\n",
              "  'lamb',\n",
              "  '.'],\n",
              " 'pos_tags': [22, 42, 16, 21, 35, 37, 16, 21, 7],\n",
              " 'chunk_tags': [11, 21, 11, 12, 21, 22, 11, 12, 0],\n",
              " 'ner_tags': [3, 0, 7, 0, 0, 0, 7, 0, 0],\n",
              " 'input_ids': [101,\n",
              "  7327,\n",
              "  19164,\n",
              "  2446,\n",
              "  2655,\n",
              "  2000,\n",
              "  17757,\n",
              "  2329,\n",
              "  12559,\n",
              "  1012,\n",
              "  102],\n",
              " 'token_type_ids': [0, 0, 0, 0, 0, 0, 0, 0, 0, 0, 0],\n",
              " 'attention_mask': [1, 1, 1, 1, 1, 1, 1, 1, 1, 1, 1],\n",
              " 'labels': [-100, 3, 0, 7, 0, 0, 0, 7, 0, 0, -100]}"
            ]
          },
          "metadata": {},
          "execution_count": 29
        }
      ],
      "source": [
        "tokenized_dataset['train'][0]"
      ]
    },
    {
      "cell_type": "markdown",
      "metadata": {
        "id": "bKaQdqS2_jql"
      },
      "source": [
        "## Define the model and training arguements"
      ]
    },
    {
      "cell_type": "code",
      "execution_count": 30,
      "metadata": {
        "colab": {
          "base_uri": "https://localhost:8080/"
        },
        "id": "Kdp6crDr_jql",
        "outputId": "3ec14153-beb3-4eac-e78a-a190e6b7921f"
      },
      "outputs": [
        {
          "output_type": "execute_result",
          "data": {
            "text/plain": [
              "['O', 'B-PER', 'I-PER', 'B-ORG', 'I-ORG', 'B-LOC', 'I-LOC', 'B-MISC', 'I-MISC']"
            ]
          },
          "metadata": {},
          "execution_count": 30
        }
      ],
      "source": [
        "# Labels list\n",
        "label_list = ner_dataset[\"train\"].features[\"ner_tags\"].feature.names\n",
        "label_list"
      ]
    },
    {
      "cell_type": "code",
      "execution_count": 31,
      "metadata": {
        "colab": {
          "base_uri": "https://localhost:8080/"
        },
        "id": "nqW6qDYQ_jql",
        "outputId": "d30a6ebb-a4af-41e7-af16-37ac37010103"
      },
      "outputs": [
        {
          "output_type": "stream",
          "name": "stderr",
          "text": [
            "Some weights of BertForTokenClassification were not initialized from the model checkpoint at bert-base-uncased and are newly initialized: ['classifier.bias', 'classifier.weight']\n",
            "You should probably TRAIN this model on a down-stream task to be able to use it for predictions and inference.\n"
          ]
        }
      ],
      "source": [
        "# Model\n",
        "model = AutoModelForTokenClassification.from_pretrained('bert-base-uncased', num_labels=len(label_list))"
      ]
    },
    {
      "cell_type": "code",
      "execution_count": 33,
      "metadata": {
        "colab": {
          "base_uri": "https://localhost:8080/"
        },
        "id": "hzGIS3u1_jql",
        "outputId": "15aec2e2-2837-4a60-a877-e922716b75e3"
      },
      "outputs": [
        {
          "output_type": "stream",
          "name": "stderr",
          "text": [
            "/usr/local/lib/python3.11/dist-packages/transformers/training_args.py:1575: FutureWarning: `evaluation_strategy` is deprecated and will be removed in version 4.46 of 🤗 Transformers. Use `eval_strategy` instead\n",
            "  warnings.warn(\n"
          ]
        }
      ],
      "source": [
        "# Training Args\n",
        "training_args = TrainingArguments(\n",
        "    output_dir='./results',\n",
        "    evaluation_strategy = \"epoch\",\n",
        "    num_train_epochs=3,\n",
        "    per_device_train_batch_size=16,\n",
        "    per_device_eval_batch_size=16,\n",
        "    weight_decay=0.01,\n",
        "\n",
        ")\n",
        "\n",
        "# Data Collator\n",
        "data_collator = DataCollatorForTokenClassification(tokenizer)\n"
      ]
    },
    {
      "cell_type": "code",
      "execution_count": 34,
      "metadata": {
        "colab": {
          "base_uri": "https://localhost:8080/",
          "height": 222
        },
        "id": "7BNISJzz_jql",
        "outputId": "cb91432e-a199-4d67-f6c5-37ad4e73f0cb"
      },
      "outputs": [
        {
          "output_type": "display_data",
          "data": {
            "text/plain": [
              "<IPython.core.display.HTML object>"
            ],
            "text/html": [
              "\n",
              "    <div>\n",
              "      \n",
              "      <progress value='2634' max='2634' style='width:300px; height:20px; vertical-align: middle;'></progress>\n",
              "      [2634/2634 08:47, Epoch 3/3]\n",
              "    </div>\n",
              "    <table border=\"1\" class=\"dataframe\">\n",
              "  <thead>\n",
              " <tr style=\"text-align: left;\">\n",
              "      <th>Epoch</th>\n",
              "      <th>Training Loss</th>\n",
              "      <th>Validation Loss</th>\n",
              "    </tr>\n",
              "  </thead>\n",
              "  <tbody>\n",
              "    <tr>\n",
              "      <td>1</td>\n",
              "      <td>0.169700</td>\n",
              "      <td>0.059666</td>\n",
              "    </tr>\n",
              "    <tr>\n",
              "      <td>2</td>\n",
              "      <td>0.035700</td>\n",
              "      <td>0.052864</td>\n",
              "    </tr>\n",
              "    <tr>\n",
              "      <td>3</td>\n",
              "      <td>0.015000</td>\n",
              "      <td>0.056057</td>\n",
              "    </tr>\n",
              "  </tbody>\n",
              "</table><p>"
            ]
          },
          "metadata": {}
        },
        {
          "output_type": "execute_result",
          "data": {
            "text/plain": [
              "TrainOutput(global_step=2634, training_loss=0.059083474433684585, metrics={'train_runtime': 527.3691, 'train_samples_per_second': 79.874, 'train_steps_per_second': 4.995, 'total_flos': 1020143109346326.0, 'train_loss': 0.059083474433684585, 'epoch': 3.0})"
            ]
          },
          "metadata": {},
          "execution_count": 34
        }
      ],
      "source": [
        "# Initialize the Trainer\n",
        "trainer = Trainer(\n",
        "    model,\n",
        "    training_args,\n",
        "    train_dataset=tokenized_dataset['train'],\n",
        "    eval_dataset=tokenized_dataset['validation'],\n",
        "    data_collator=data_collator\n",
        ")\n",
        "trainer.train()"
      ]
    },
    {
      "cell_type": "code",
      "source": [
        "model.save_pretrained('ner_model')\n",
        "tokenizer.save_pretrained('tokenizer')"
      ],
      "metadata": {
        "colab": {
          "base_uri": "https://localhost:8080/"
        },
        "id": "ZojOKnP3B-hP",
        "outputId": "e5c10501-a2a9-46d0-cde6-0462c3e3b00b"
      },
      "execution_count": 83,
      "outputs": [
        {
          "output_type": "execute_result",
          "data": {
            "text/plain": [
              "('tokenizer/tokenizer_config.json',\n",
              " 'tokenizer/special_tokens_map.json',\n",
              " 'tokenizer/vocab.txt',\n",
              " 'tokenizer/added_tokens.json',\n",
              " 'tokenizer/tokenizer.json')"
            ]
          },
          "metadata": {},
          "execution_count": 83
        }
      ]
    },
    {
      "cell_type": "code",
      "source": [
        "label_list = ner_dataset[\"train\"].features[\"ner_tags\"].feature.names\n",
        "\n",
        "label_mapping = {f\"LABEL_{i}\": label for i, label in enumerate(label_list)}\n",
        "label_mapping"
      ],
      "metadata": {
        "colab": {
          "base_uri": "https://localhost:8080/"
        },
        "id": "aiuRpyvRF7WX",
        "outputId": "5fbe2c8f-e9a8-4117-c599-13b34b096ebf"
      },
      "execution_count": 97,
      "outputs": [
        {
          "output_type": "execute_result",
          "data": {
            "text/plain": [
              "{'LABEL_0': 'O',\n",
              " 'LABEL_1': 'B-PER',\n",
              " 'LABEL_2': 'I-PER',\n",
              " 'LABEL_3': 'B-ORG',\n",
              " 'LABEL_4': 'I-ORG',\n",
              " 'LABEL_5': 'B-LOC',\n",
              " 'LABEL_6': 'I-LOC',\n",
              " 'LABEL_7': 'B-MISC',\n",
              " 'LABEL_8': 'I-MISC'}"
            ]
          },
          "metadata": {},
          "execution_count": 97
        }
      ]
    },
    {
      "cell_type": "code",
      "source": [
        "from transformers import pipeline\n",
        "\n",
        "ner_model = pipeline(\"ner\", model=\"ner_model\", tokenizer=\"tokenizer\")\n",
        "text = \"My name is Elon Musk, I am from Mars\"\n",
        "results = ner_model(text)\n",
        "results\n"
      ],
      "metadata": {
        "colab": {
          "base_uri": "https://localhost:8080/"
        },
        "id": "nliImvOeB5wl",
        "outputId": "41f62813-1a56-4852-8da8-236bdb8a6f36"
      },
      "execution_count": 102,
      "outputs": [
        {
          "output_type": "stream",
          "name": "stderr",
          "text": [
            "Device set to use cuda:0\n"
          ]
        },
        {
          "output_type": "execute_result",
          "data": {
            "text/plain": [
              "[{'entity': 'LABEL_0',\n",
              "  'score': 0.9997913,\n",
              "  'index': 1,\n",
              "  'word': 'my',\n",
              "  'start': 0,\n",
              "  'end': 2},\n",
              " {'entity': 'LABEL_0',\n",
              "  'score': 0.99964106,\n",
              "  'index': 2,\n",
              "  'word': 'name',\n",
              "  'start': 3,\n",
              "  'end': 7},\n",
              " {'entity': 'LABEL_0',\n",
              "  'score': 0.9997352,\n",
              "  'index': 3,\n",
              "  'word': 'is',\n",
              "  'start': 8,\n",
              "  'end': 10},\n",
              " {'entity': 'LABEL_1',\n",
              "  'score': 0.9961606,\n",
              "  'index': 4,\n",
              "  'word': 'el',\n",
              "  'start': 11,\n",
              "  'end': 13},\n",
              " {'entity': 'LABEL_1',\n",
              "  'score': 0.9975944,\n",
              "  'index': 5,\n",
              "  'word': '##on',\n",
              "  'start': 13,\n",
              "  'end': 15},\n",
              " {'entity': 'LABEL_2',\n",
              "  'score': 0.9981871,\n",
              "  'index': 6,\n",
              "  'word': 'mu',\n",
              "  'start': 16,\n",
              "  'end': 18},\n",
              " {'entity': 'LABEL_2',\n",
              "  'score': 0.99860376,\n",
              "  'index': 7,\n",
              "  'word': '##sk',\n",
              "  'start': 18,\n",
              "  'end': 20},\n",
              " {'entity': 'LABEL_0',\n",
              "  'score': 0.99977535,\n",
              "  'index': 8,\n",
              "  'word': ',',\n",
              "  'start': 20,\n",
              "  'end': 21},\n",
              " {'entity': 'LABEL_0',\n",
              "  'score': 0.9998031,\n",
              "  'index': 9,\n",
              "  'word': 'i',\n",
              "  'start': 22,\n",
              "  'end': 23},\n",
              " {'entity': 'LABEL_0',\n",
              "  'score': 0.99976975,\n",
              "  'index': 10,\n",
              "  'word': 'am',\n",
              "  'start': 24,\n",
              "  'end': 26},\n",
              " {'entity': 'LABEL_0',\n",
              "  'score': 0.99951005,\n",
              "  'index': 11,\n",
              "  'word': 'from',\n",
              "  'start': 27,\n",
              "  'end': 31},\n",
              " {'entity': 'LABEL_5',\n",
              "  'score': 0.99651515,\n",
              "  'index': 12,\n",
              "  'word': 'mars',\n",
              "  'start': 32,\n",
              "  'end': 36}]"
            ]
          },
          "metadata": {},
          "execution_count": 102
        }
      ]
    },
    {
      "cell_type": "code",
      "source": [
        "for result in results:\n",
        "  if result['entity'] in label_mapping:\n",
        "    result['entity'] = label_mapping[result['entity']]\n",
        "results"
      ],
      "metadata": {
        "colab": {
          "base_uri": "https://localhost:8080/"
        },
        "id": "i0dDABwRJpbJ",
        "outputId": "9d491f73-1332-43b9-d235-0384b025ee83"
      },
      "execution_count": 103,
      "outputs": [
        {
          "output_type": "execute_result",
          "data": {
            "text/plain": [
              "[{'entity': 'O',\n",
              "  'score': 0.9997913,\n",
              "  'index': 1,\n",
              "  'word': 'my',\n",
              "  'start': 0,\n",
              "  'end': 2},\n",
              " {'entity': 'O',\n",
              "  'score': 0.99964106,\n",
              "  'index': 2,\n",
              "  'word': 'name',\n",
              "  'start': 3,\n",
              "  'end': 7},\n",
              " {'entity': 'O',\n",
              "  'score': 0.9997352,\n",
              "  'index': 3,\n",
              "  'word': 'is',\n",
              "  'start': 8,\n",
              "  'end': 10},\n",
              " {'entity': 'B-PER',\n",
              "  'score': 0.9961606,\n",
              "  'index': 4,\n",
              "  'word': 'el',\n",
              "  'start': 11,\n",
              "  'end': 13},\n",
              " {'entity': 'B-PER',\n",
              "  'score': 0.9975944,\n",
              "  'index': 5,\n",
              "  'word': '##on',\n",
              "  'start': 13,\n",
              "  'end': 15},\n",
              " {'entity': 'I-PER',\n",
              "  'score': 0.9981871,\n",
              "  'index': 6,\n",
              "  'word': 'mu',\n",
              "  'start': 16,\n",
              "  'end': 18},\n",
              " {'entity': 'I-PER',\n",
              "  'score': 0.99860376,\n",
              "  'index': 7,\n",
              "  'word': '##sk',\n",
              "  'start': 18,\n",
              "  'end': 20},\n",
              " {'entity': 'O',\n",
              "  'score': 0.99977535,\n",
              "  'index': 8,\n",
              "  'word': ',',\n",
              "  'start': 20,\n",
              "  'end': 21},\n",
              " {'entity': 'O',\n",
              "  'score': 0.9998031,\n",
              "  'index': 9,\n",
              "  'word': 'i',\n",
              "  'start': 22,\n",
              "  'end': 23},\n",
              " {'entity': 'O',\n",
              "  'score': 0.99976975,\n",
              "  'index': 10,\n",
              "  'word': 'am',\n",
              "  'start': 24,\n",
              "  'end': 26},\n",
              " {'entity': 'O',\n",
              "  'score': 0.99951005,\n",
              "  'index': 11,\n",
              "  'word': 'from',\n",
              "  'start': 27,\n",
              "  'end': 31},\n",
              " {'entity': 'B-LOC',\n",
              "  'score': 0.99651515,\n",
              "  'index': 12,\n",
              "  'word': 'mars',\n",
              "  'start': 32,\n",
              "  'end': 36}]"
            ]
          },
          "metadata": {},
          "execution_count": 103
        }
      ]
    },
    {
      "cell_type": "code",
      "source": [
        "def process_entity(results):\n",
        "    combined_entities = {}\n",
        "    current_entity = []\n",
        "    current_label = None\n",
        "\n",
        "    for result in results:\n",
        "        if '-B' in result['entity']:\n",
        "            if current_entity:\n",
        "                combined_entities[' '.join(current_entity)] = current_label.split('-')[1]\n",
        "                current_entity = []\n",
        "\n",
        "                current_label = result['entity']\n",
        "                current_entity.append(result['word'])\n",
        "        elif 'I-' in result['entity'] and current_label and result['entity'].split('-')[1] == current_label.split('-')[1]:\n",
        "            current_entity.append(result['word'])\n",
        "\n",
        "        else:\n",
        "            if current_entity:\n",
        "                combined_entities[' '.join(current_entity)] = current_label.split('-')[1]\n",
        "                current_entity = []\n",
        "\n",
        "            current_label = result['entity'] if 'B-' in result['entity'] else None\n",
        "            if current_label:\n",
        "                current_entity.append(result['word'])\n",
        "    if current_entity:\n",
        "        combined_entities[' '.join(current_entity)] = current_label.split('-')[1]\n",
        "\n",
        "    return combined_entities\n"
      ],
      "metadata": {
        "id": "rY4zBKD6F-Ye"
      },
      "execution_count": 100,
      "outputs": []
    },
    {
      "cell_type": "code",
      "source": [
        "process_entity(results)"
      ],
      "metadata": {
        "colab": {
          "base_uri": "https://localhost:8080/"
        },
        "id": "dj14dpywF_Zc",
        "outputId": "4a517d7d-bbb8-460e-c1b1-40f6cfc76cc6"
      },
      "execution_count": 104,
      "outputs": [
        {
          "output_type": "execute_result",
          "data": {
            "text/plain": [
              "{'el': 'PER', '##on mu ##sk': 'PER', 'mars': 'LOC'}"
            ]
          },
          "metadata": {},
          "execution_count": 104
        }
      ]
    }
  ],
  "metadata": {
    "kernelspec": {
      "display_name": "venv",
      "language": "python",
      "name": "python3"
    },
    "language_info": {
      "codemirror_mode": {
        "name": "ipython",
        "version": 3
      },
      "file_extension": ".py",
      "mimetype": "text/x-python",
      "name": "python",
      "nbconvert_exporter": "python",
      "pygments_lexer": "ipython3",
      "version": "3.11.2"
    },
    "colab": {
      "provenance": [],
      "include_colab_link": true
    },
    "widgets": {
      "application/vnd.jupyter.widget-state+json": {
        "d5927ba08549449b82139a7b911405a0": {
          "model_module": "@jupyter-widgets/controls",
          "model_name": "HBoxModel",
          "model_module_version": "1.5.0",
          "state": {
            "_dom_classes": [],
            "_model_module": "@jupyter-widgets/controls",
            "_model_module_version": "1.5.0",
            "_model_name": "HBoxModel",
            "_view_count": null,
            "_view_module": "@jupyter-widgets/controls",
            "_view_module_version": "1.5.0",
            "_view_name": "HBoxView",
            "box_style": "",
            "children": [
              "IPY_MODEL_1b09ed04e2ab4aff93d9b94a6c78bede",
              "IPY_MODEL_3394e4c9f70e4874bd9c327c905ea198",
              "IPY_MODEL_fbf41b9b66e24edc994431766c9e1f88"
            ],
            "layout": "IPY_MODEL_ee3500acc5e340ee9860d422712ef3b2"
          }
        },
        "1b09ed04e2ab4aff93d9b94a6c78bede": {
          "model_module": "@jupyter-widgets/controls",
          "model_name": "HTMLModel",
          "model_module_version": "1.5.0",
          "state": {
            "_dom_classes": [],
            "_model_module": "@jupyter-widgets/controls",
            "_model_module_version": "1.5.0",
            "_model_name": "HTMLModel",
            "_view_count": null,
            "_view_module": "@jupyter-widgets/controls",
            "_view_module_version": "1.5.0",
            "_view_name": "HTMLView",
            "description": "",
            "description_tooltip": null,
            "layout": "IPY_MODEL_6a07f1e4e7e541f0a97a097ece001408",
            "placeholder": "​",
            "style": "IPY_MODEL_6a2ff8c619da4f12aa195a3444a276f0",
            "value": "Map: 100%"
          }
        },
        "3394e4c9f70e4874bd9c327c905ea198": {
          "model_module": "@jupyter-widgets/controls",
          "model_name": "FloatProgressModel",
          "model_module_version": "1.5.0",
          "state": {
            "_dom_classes": [],
            "_model_module": "@jupyter-widgets/controls",
            "_model_module_version": "1.5.0",
            "_model_name": "FloatProgressModel",
            "_view_count": null,
            "_view_module": "@jupyter-widgets/controls",
            "_view_module_version": "1.5.0",
            "_view_name": "ProgressView",
            "bar_style": "success",
            "description": "",
            "description_tooltip": null,
            "layout": "IPY_MODEL_82cb1715864440b3b1004555fada80d7",
            "max": 3250,
            "min": 0,
            "orientation": "horizontal",
            "style": "IPY_MODEL_449726b23e5d47c4887a0121bb2fd5b2",
            "value": 3250
          }
        },
        "fbf41b9b66e24edc994431766c9e1f88": {
          "model_module": "@jupyter-widgets/controls",
          "model_name": "HTMLModel",
          "model_module_version": "1.5.0",
          "state": {
            "_dom_classes": [],
            "_model_module": "@jupyter-widgets/controls",
            "_model_module_version": "1.5.0",
            "_model_name": "HTMLModel",
            "_view_count": null,
            "_view_module": "@jupyter-widgets/controls",
            "_view_module_version": "1.5.0",
            "_view_name": "HTMLView",
            "description": "",
            "description_tooltip": null,
            "layout": "IPY_MODEL_58109704fb0a4585bc04a68edf0f519c",
            "placeholder": "​",
            "style": "IPY_MODEL_75af31922c9d43f7860b9d48c895d6f3",
            "value": " 3250/3250 [00:00&lt;00:00, 3758.18 examples/s]"
          }
        },
        "ee3500acc5e340ee9860d422712ef3b2": {
          "model_module": "@jupyter-widgets/base",
          "model_name": "LayoutModel",
          "model_module_version": "1.2.0",
          "state": {
            "_model_module": "@jupyter-widgets/base",
            "_model_module_version": "1.2.0",
            "_model_name": "LayoutModel",
            "_view_count": null,
            "_view_module": "@jupyter-widgets/base",
            "_view_module_version": "1.2.0",
            "_view_name": "LayoutView",
            "align_content": null,
            "align_items": null,
            "align_self": null,
            "border": null,
            "bottom": null,
            "display": null,
            "flex": null,
            "flex_flow": null,
            "grid_area": null,
            "grid_auto_columns": null,
            "grid_auto_flow": null,
            "grid_auto_rows": null,
            "grid_column": null,
            "grid_gap": null,
            "grid_row": null,
            "grid_template_areas": null,
            "grid_template_columns": null,
            "grid_template_rows": null,
            "height": null,
            "justify_content": null,
            "justify_items": null,
            "left": null,
            "margin": null,
            "max_height": null,
            "max_width": null,
            "min_height": null,
            "min_width": null,
            "object_fit": null,
            "object_position": null,
            "order": null,
            "overflow": null,
            "overflow_x": null,
            "overflow_y": null,
            "padding": null,
            "right": null,
            "top": null,
            "visibility": null,
            "width": null
          }
        },
        "6a07f1e4e7e541f0a97a097ece001408": {
          "model_module": "@jupyter-widgets/base",
          "model_name": "LayoutModel",
          "model_module_version": "1.2.0",
          "state": {
            "_model_module": "@jupyter-widgets/base",
            "_model_module_version": "1.2.0",
            "_model_name": "LayoutModel",
            "_view_count": null,
            "_view_module": "@jupyter-widgets/base",
            "_view_module_version": "1.2.0",
            "_view_name": "LayoutView",
            "align_content": null,
            "align_items": null,
            "align_self": null,
            "border": null,
            "bottom": null,
            "display": null,
            "flex": null,
            "flex_flow": null,
            "grid_area": null,
            "grid_auto_columns": null,
            "grid_auto_flow": null,
            "grid_auto_rows": null,
            "grid_column": null,
            "grid_gap": null,
            "grid_row": null,
            "grid_template_areas": null,
            "grid_template_columns": null,
            "grid_template_rows": null,
            "height": null,
            "justify_content": null,
            "justify_items": null,
            "left": null,
            "margin": null,
            "max_height": null,
            "max_width": null,
            "min_height": null,
            "min_width": null,
            "object_fit": null,
            "object_position": null,
            "order": null,
            "overflow": null,
            "overflow_x": null,
            "overflow_y": null,
            "padding": null,
            "right": null,
            "top": null,
            "visibility": null,
            "width": null
          }
        },
        "6a2ff8c619da4f12aa195a3444a276f0": {
          "model_module": "@jupyter-widgets/controls",
          "model_name": "DescriptionStyleModel",
          "model_module_version": "1.5.0",
          "state": {
            "_model_module": "@jupyter-widgets/controls",
            "_model_module_version": "1.5.0",
            "_model_name": "DescriptionStyleModel",
            "_view_count": null,
            "_view_module": "@jupyter-widgets/base",
            "_view_module_version": "1.2.0",
            "_view_name": "StyleView",
            "description_width": ""
          }
        },
        "82cb1715864440b3b1004555fada80d7": {
          "model_module": "@jupyter-widgets/base",
          "model_name": "LayoutModel",
          "model_module_version": "1.2.0",
          "state": {
            "_model_module": "@jupyter-widgets/base",
            "_model_module_version": "1.2.0",
            "_model_name": "LayoutModel",
            "_view_count": null,
            "_view_module": "@jupyter-widgets/base",
            "_view_module_version": "1.2.0",
            "_view_name": "LayoutView",
            "align_content": null,
            "align_items": null,
            "align_self": null,
            "border": null,
            "bottom": null,
            "display": null,
            "flex": null,
            "flex_flow": null,
            "grid_area": null,
            "grid_auto_columns": null,
            "grid_auto_flow": null,
            "grid_auto_rows": null,
            "grid_column": null,
            "grid_gap": null,
            "grid_row": null,
            "grid_template_areas": null,
            "grid_template_columns": null,
            "grid_template_rows": null,
            "height": null,
            "justify_content": null,
            "justify_items": null,
            "left": null,
            "margin": null,
            "max_height": null,
            "max_width": null,
            "min_height": null,
            "min_width": null,
            "object_fit": null,
            "object_position": null,
            "order": null,
            "overflow": null,
            "overflow_x": null,
            "overflow_y": null,
            "padding": null,
            "right": null,
            "top": null,
            "visibility": null,
            "width": null
          }
        },
        "449726b23e5d47c4887a0121bb2fd5b2": {
          "model_module": "@jupyter-widgets/controls",
          "model_name": "ProgressStyleModel",
          "model_module_version": "1.5.0",
          "state": {
            "_model_module": "@jupyter-widgets/controls",
            "_model_module_version": "1.5.0",
            "_model_name": "ProgressStyleModel",
            "_view_count": null,
            "_view_module": "@jupyter-widgets/base",
            "_view_module_version": "1.2.0",
            "_view_name": "StyleView",
            "bar_color": null,
            "description_width": ""
          }
        },
        "58109704fb0a4585bc04a68edf0f519c": {
          "model_module": "@jupyter-widgets/base",
          "model_name": "LayoutModel",
          "model_module_version": "1.2.0",
          "state": {
            "_model_module": "@jupyter-widgets/base",
            "_model_module_version": "1.2.0",
            "_model_name": "LayoutModel",
            "_view_count": null,
            "_view_module": "@jupyter-widgets/base",
            "_view_module_version": "1.2.0",
            "_view_name": "LayoutView",
            "align_content": null,
            "align_items": null,
            "align_self": null,
            "border": null,
            "bottom": null,
            "display": null,
            "flex": null,
            "flex_flow": null,
            "grid_area": null,
            "grid_auto_columns": null,
            "grid_auto_flow": null,
            "grid_auto_rows": null,
            "grid_column": null,
            "grid_gap": null,
            "grid_row": null,
            "grid_template_areas": null,
            "grid_template_columns": null,
            "grid_template_rows": null,
            "height": null,
            "justify_content": null,
            "justify_items": null,
            "left": null,
            "margin": null,
            "max_height": null,
            "max_width": null,
            "min_height": null,
            "min_width": null,
            "object_fit": null,
            "object_position": null,
            "order": null,
            "overflow": null,
            "overflow_x": null,
            "overflow_y": null,
            "padding": null,
            "right": null,
            "top": null,
            "visibility": null,
            "width": null
          }
        },
        "75af31922c9d43f7860b9d48c895d6f3": {
          "model_module": "@jupyter-widgets/controls",
          "model_name": "DescriptionStyleModel",
          "model_module_version": "1.5.0",
          "state": {
            "_model_module": "@jupyter-widgets/controls",
            "_model_module_version": "1.5.0",
            "_model_name": "DescriptionStyleModel",
            "_view_count": null,
            "_view_module": "@jupyter-widgets/base",
            "_view_module_version": "1.2.0",
            "_view_name": "StyleView",
            "description_width": ""
          }
        }
      }
    }
  },
  "nbformat": 4,
  "nbformat_minor": 0
}