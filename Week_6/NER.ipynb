{
  "cells": [
    {
      "cell_type": "markdown",
      "metadata": {
        "id": "XsAZHl22_jqg"
      },
      "source": [
        "# NLP Exercise 6: Named Entity Recognition (NER)\n",
        "---"
      ]
    },
    {
      "cell_type": "markdown",
      "metadata": {
        "id": "qrWFzijg_jqh"
      },
      "source": [
        "Part-of-speech tagging (POS): mark each word in a sentence as corresponding to a particular part of speech.\n",
        "\n",
        "- O: the word does not correspond to any entity.\n",
        "- B-PER/I-PER: corresponds to the begginning/inside a person entity.\n",
        "- B-ORG/I-ORG: corresponds to the begginning/inside an organization entity.\n",
        "- B-LOC/I-LOC: corresponds to the begginning/inside a location entity.\n",
        "- B-MISC/I-MISC: corresponds to the begginning/inside a miscellaneous entity."
      ]
    },
    {
      "cell_type": "markdown",
      "metadata": {
        "id": "Y1EdnmOW_jqi"
      },
      "source": [
        "You can get more information about the dataset we used below in the link:\n",
        "https://huggingface.co/datasets/eriktks/conll2003"
      ]
    },
    {
      "cell_type": "markdown",
      "metadata": {},
      "source": [
        "## Preprocessing"
      ]
    },
    {
      "cell_type": "markdown",
      "metadata": {
        "id": "R48DrfLp_jqi"
      },
      "source": [
        "### Import libraries"
      ]
    },
    {
      "cell_type": "code",
      "execution_count": null,
      "metadata": {
        "id": "aF42kW4k_jqi"
      },
      "outputs": [],
      "source": [
        "import datasets\n",
        "import numpy as np\n",
        "import evaluate\n",
        "from transformers import BertTokenizerFast\n",
        "from transformers import DataCollatorForTokenClassification\n",
        "from transformers import AutoModelForTokenClassification\n",
        "from transformers import Trainer, TrainingArguments"
      ]
    },
    {
      "cell_type": "markdown",
      "metadata": {
        "id": "pmttTazf_jqj"
      },
      "source": [
        "### Understanding the data"
      ]
    },
    {
      "cell_type": "code",
      "execution_count": null,
      "metadata": {
        "id": "2X85fU0f_jqj"
      },
      "outputs": [],
      "source": [
        "# Load Datasets\n",
        "ner_dataset = datasets.load_dataset('conll2003', trust_remote_code=True)"
      ]
    },
    {
      "cell_type": "code",
      "execution_count": null,
      "metadata": {
        "colab": {
          "base_uri": "https://localhost:8080/"
        },
        "id": "fy7zD-4D_jqj",
        "outputId": "744fee4c-3ebd-48d3-b223-c3434306945a"
      },
      "outputs": [],
      "source": [
        "ner_dataset"
      ]
    },
    {
      "cell_type": "code",
      "execution_count": null,
      "metadata": {
        "colab": {
          "base_uri": "https://localhost:8080/"
        },
        "id": "Dm6ncNh6_jqk",
        "outputId": "0182536e-c1c4-4418-e24a-154e8b415b60"
      },
      "outputs": [],
      "source": [
        "ner_dataset['train'][0]"
      ]
    },
    {
      "cell_type": "code",
      "execution_count": null,
      "metadata": {
        "id": "zBHNfDWJ_jqk"
      },
      "outputs": [],
      "source": [
        "# Define tokenizer\n",
        "tokenizer = BertTokenizerFast.from_pretrained('bert-base-uncased')"
      ]
    },
    {
      "cell_type": "code",
      "execution_count": null,
      "metadata": {
        "colab": {
          "base_uri": "https://localhost:8080/"
        },
        "id": "zLJcJ1ci_jqk",
        "outputId": "773425cd-51a9-41a1-f679-084b9c5895e9"
      },
      "outputs": [],
      "source": [
        "# Tokenize a sample to see the output\n",
        "text = ner_dataset['train'][0]\n",
        "tokenized_text = tokenizer(text['tokens'], is_split_into_words=True)\n",
        "tokens = tokenizer.convert_ids_to_tokens(tokenized_text['input_ids'])\n",
        "word_ids = tokenized_text.word_ids()\n",
        "\n",
        "print(f\"{tokenized_text} \\n\")\n",
        "print(f\"{tokens} \\n\")\n",
        "print(word_ids)"
      ]
    },
    {
      "cell_type": "markdown",
      "metadata": {
        "id": "8MiElWKE_jqk"
      },
      "source": [
        "### Assigning Labels to Tokens\n"
      ]
    },
    {
      "cell_type": "code",
      "execution_count": null,
      "metadata": {
        "id": "qx_RDDK5_jqk"
      },
      "outputs": [],
      "source": [
        "def tokenize_and_align_labels(examples, label_all_tokens=True):\n",
        "    tokenized_inputs = tokenizer(examples[\"tokens\"], truncation=True, is_split_into_words=True)\n",
        "    labels = []\n",
        "    for i, label in enumerate(examples[\"ner_tags\"]):\n",
        "        word_ids = tokenized_inputs.word_ids(batch_index=i)\n",
        "        # word_ids() => Return a list mapping the tokens\n",
        "        # to their actual word in the initial sentence.\n",
        "        # It Returns a list indicating the word corresponding to each token.\n",
        "        previous_word_idx = None\n",
        "        label_ids = []\n",
        "        # Special tokens like `` and `<\\s>` are originally mapped to None\n",
        "        # We need to set the label to -100 so they are automatically ignored in the loss function.\n",
        "        for word_idx in word_ids:\n",
        "            if word_idx is None:\n",
        "                # set –100 as the label for these special tokens\n",
        "                label_ids.append(-100)\n",
        "            # For the other tokens in a word, we set the label to either the current label or -100, depending on\n",
        "            # the label_all_tokens flag.\n",
        "            elif word_idx != previous_word_idx:\n",
        "                # if current word_idx is != prev then its the most regular case\n",
        "                # and add the corresponding token\n",
        "                label_ids.append(label[word_idx])\n",
        "            else:\n",
        "                # to take care of sub-words which have the same word_idx\n",
        "                # set -100 as well for them, but only if label_all_tokens == False\n",
        "                label_ids.append(label[word_idx] if label_all_tokens else -100)\n",
        "                # mask the subword representations after the first subword\n",
        "\n",
        "            previous_word_idx = word_idx\n",
        "        labels.append(label_ids)\n",
        "    tokenized_inputs[\"labels\"] = labels\n",
        "    return tokenized_inputs"
      ]
    },
    {
      "cell_type": "code",
      "execution_count": null,
      "metadata": {
        "colab": {
          "base_uri": "https://localhost:8080/",
          "height": 49,
          "referenced_widgets": [
            "d5927ba08549449b82139a7b911405a0",
            "1b09ed04e2ab4aff93d9b94a6c78bede",
            "3394e4c9f70e4874bd9c327c905ea198",
            "fbf41b9b66e24edc994431766c9e1f88",
            "ee3500acc5e340ee9860d422712ef3b2",
            "6a07f1e4e7e541f0a97a097ece001408",
            "6a2ff8c619da4f12aa195a3444a276f0",
            "82cb1715864440b3b1004555fada80d7",
            "449726b23e5d47c4887a0121bb2fd5b2",
            "58109704fb0a4585bc04a68edf0f519c",
            "75af31922c9d43f7860b9d48c895d6f3"
          ]
        },
        "id": "vKuAU6RX_jql",
        "outputId": "8c5b0802-6447-4bfc-9958-e2bbc8ffe5ec"
      },
      "outputs": [],
      "source": [
        "# Apply the function to the entire dataset\n",
        "tokenized_dataset = ner_dataset.map(tokenize_and_align_labels, batched=True)"
      ]
    },
    {
      "cell_type": "code",
      "execution_count": null,
      "metadata": {
        "colab": {
          "base_uri": "https://localhost:8080/"
        },
        "id": "hBxJoQdQ_jql",
        "outputId": "2c42d597-7550-4d3c-b367-9608873de634"
      },
      "outputs": [],
      "source": [
        "tokenized_dataset['train'][0]"
      ]
    },
    {
      "cell_type": "markdown",
      "metadata": {},
      "source": [
        "## Training Loop"
      ]
    },
    {
      "cell_type": "markdown",
      "metadata": {
        "id": "bKaQdqS2_jql"
      },
      "source": [
        "### Define the model and training arguements"
      ]
    },
    {
      "cell_type": "code",
      "execution_count": null,
      "metadata": {
        "colab": {
          "base_uri": "https://localhost:8080/"
        },
        "id": "Kdp6crDr_jql",
        "outputId": "3ec14153-beb3-4eac-e78a-a190e6b7921f"
      },
      "outputs": [],
      "source": [
        "# Labels list\n",
        "label_list = ner_dataset[\"train\"].features[\"ner_tags\"].feature.names\n",
        "label_list"
      ]
    },
    {
      "cell_type": "code",
      "execution_count": null,
      "metadata": {
        "colab": {
          "base_uri": "https://localhost:8080/"
        },
        "id": "nqW6qDYQ_jql",
        "outputId": "d30a6ebb-a4af-41e7-af16-37ac37010103"
      },
      "outputs": [],
      "source": [
        "# Model\n",
        "model = AutoModelForTokenClassification.from_pretrained('bert-base-uncased', num_labels=len(label_list))"
      ]
    },
    {
      "cell_type": "code",
      "execution_count": null,
      "metadata": {
        "colab": {
          "base_uri": "https://localhost:8080/"
        },
        "id": "hzGIS3u1_jql",
        "outputId": "15aec2e2-2837-4a60-a877-e922716b75e3"
      },
      "outputs": [],
      "source": [
        "# Training Args\n",
        "training_args = TrainingArguments(\n",
        "    output_dir='./results',\n",
        "    evaluation_strategy = \"epoch\",\n",
        "    num_train_epochs=3,\n",
        "    per_device_train_batch_size=16,\n",
        "    per_device_eval_batch_size=16,\n",
        "    weight_decay=0.01,\n",
        "\n",
        ")\n",
        "\n",
        "# Data Collator\n",
        "data_collator = DataCollatorForTokenClassification(tokenizer)\n"
      ]
    },
    {
      "cell_type": "code",
      "execution_count": null,
      "metadata": {
        "colab": {
          "base_uri": "https://localhost:8080/",
          "height": 222
        },
        "id": "7BNISJzz_jql",
        "outputId": "cb91432e-a199-4d67-f6c5-37ad4e73f0cb"
      },
      "outputs": [],
      "source": [
        "# Initialize the Trainer\n",
        "trainer = Trainer(\n",
        "    model,\n",
        "    training_args,\n",
        "    train_dataset=tokenized_dataset['train'],\n",
        "    eval_dataset=tokenized_dataset['validation'],\n",
        "    data_collator=data_collator\n",
        ")\n",
        "trainer.train()"
      ]
    },
    {
      "cell_type": "markdown",
      "metadata": {},
      "source": [
        "## Save and test model"
      ]
    },
    {
      "cell_type": "code",
      "execution_count": null,
      "metadata": {
        "colab": {
          "base_uri": "https://localhost:8080/"
        },
        "id": "ZojOKnP3B-hP",
        "outputId": "e5c10501-a2a9-46d0-cde6-0462c3e3b00b"
      },
      "outputs": [],
      "source": [
        "model.save_pretrained('ner_model')\n",
        "tokenizer.save_pretrained('tokenizer')"
      ]
    },
    {
      "cell_type": "markdown",
      "metadata": {},
      "source": [
        "### Postprocessing"
      ]
    },
    {
      "cell_type": "code",
      "execution_count": null,
      "metadata": {
        "colab": {
          "base_uri": "https://localhost:8080/"
        },
        "id": "aiuRpyvRF7WX",
        "outputId": "5fbe2c8f-e9a8-4117-c599-13b34b096ebf"
      },
      "outputs": [],
      "source": [
        "label_list = ner_dataset[\"train\"].features[\"ner_tags\"].feature.names\n",
        "\n",
        "label_mapping = {f\"LABEL_{i}\": label for i, label in enumerate(label_list)}\n",
        "label_mapping"
      ]
    },
    {
      "cell_type": "code",
      "execution_count": null,
      "metadata": {
        "colab": {
          "base_uri": "https://localhost:8080/"
        },
        "id": "nliImvOeB5wl",
        "outputId": "41f62813-1a56-4852-8da8-236bdb8a6f36"
      },
      "outputs": [],
      "source": [
        "from transformers import pipeline\n",
        "\n",
        "ner_model = pipeline(\"ner\", model=\"ner_model\", tokenizer=\"tokenizer\")\n",
        "text = \"My name is Elon Musk, I am from Mars\"\n",
        "results = ner_model(text)\n",
        "results"
      ]
    },
    {
      "cell_type": "code",
      "execution_count": null,
      "metadata": {
        "colab": {
          "base_uri": "https://localhost:8080/"
        },
        "id": "i0dDABwRJpbJ",
        "outputId": "9d491f73-1332-43b9-d235-0384b025ee83"
      },
      "outputs": [],
      "source": [
        "# Convert to a better-to-read version\n",
        "for result in results:\n",
        "  if result['entity'] in label_mapping:\n",
        "    result['entity'] = label_mapping[result['entity']]\n",
        "results"
      ]
    },
    {
      "cell_type": "code",
      "execution_count": null,
      "metadata": {
        "id": "rY4zBKD6F-Ye"
      },
      "outputs": [],
      "source": [
        "def process_entity(results):\n",
        "    combined_entities = {}\n",
        "    current_entity = []\n",
        "    current_label = None\n",
        "\n",
        "    for result in results:\n",
        "        if '-B' in result['entity']:\n",
        "            if current_entity:\n",
        "                combined_entities[' '.join(current_entity)] = current_label.split('-')[1]\n",
        "                current_entity = []\n",
        "\n",
        "                current_label = result['entity']\n",
        "                current_entity.append(result['word'])\n",
        "        elif 'I-' in result['entity'] and current_label and result['entity'].split('-')[1] == current_label.split('-')[1]:\n",
        "            current_entity.append(result['word'])\n",
        "\n",
        "        else:\n",
        "            if current_entity:\n",
        "                combined_entities[' '.join(current_entity)] = current_label.split('-')[1]\n",
        "                current_entity = []\n",
        "\n",
        "            current_label = result['entity'] if 'B-' in result['entity'] else None\n",
        "            if current_label:\n",
        "                current_entity.append(result['word'])\n",
        "    if current_entity:\n",
        "        combined_entities[' '.join(current_entity)] = current_label.split('-')[1]\n",
        "\n",
        "    return combined_entities\n"
      ]
    },
    {
      "cell_type": "code",
      "execution_count": null,
      "metadata": {
        "colab": {
          "base_uri": "https://localhost:8080/"
        },
        "id": "dj14dpywF_Zc",
        "outputId": "4a517d7d-bbb8-460e-c1b1-40f6cfc76cc6"
      },
      "outputs": [],
      "source": [
        "process_entity(results)"
      ]
    }
  ],
  "metadata": {
    "colab": {
      "include_colab_link": true,
      "provenance": []
    },
    "kernelspec": {
      "display_name": "venv",
      "language": "python",
      "name": "python3"
    },
    "language_info": {
      "codemirror_mode": {
        "name": "ipython",
        "version": 3
      },
      "file_extension": ".py",
      "mimetype": "text/x-python",
      "name": "python",
      "nbconvert_exporter": "python",
      "pygments_lexer": "ipython3",
      "version": "3.11.2"
    },
    "widgets": {
      "application/vnd.jupyter.widget-state+json": {
        "1b09ed04e2ab4aff93d9b94a6c78bede": {
          "model_module": "@jupyter-widgets/controls",
          "model_module_version": "1.5.0",
          "model_name": "HTMLModel",
          "state": {
            "_dom_classes": [],
            "_model_module": "@jupyter-widgets/controls",
            "_model_module_version": "1.5.0",
            "_model_name": "HTMLModel",
            "_view_count": null,
            "_view_module": "@jupyter-widgets/controls",
            "_view_module_version": "1.5.0",
            "_view_name": "HTMLView",
            "description": "",
            "description_tooltip": null,
            "layout": "IPY_MODEL_6a07f1e4e7e541f0a97a097ece001408",
            "placeholder": "​",
            "style": "IPY_MODEL_6a2ff8c619da4f12aa195a3444a276f0",
            "value": "Map: 100%"
          }
        },
        "3394e4c9f70e4874bd9c327c905ea198": {
          "model_module": "@jupyter-widgets/controls",
          "model_module_version": "1.5.0",
          "model_name": "FloatProgressModel",
          "state": {
            "_dom_classes": [],
            "_model_module": "@jupyter-widgets/controls",
            "_model_module_version": "1.5.0",
            "_model_name": "FloatProgressModel",
            "_view_count": null,
            "_view_module": "@jupyter-widgets/controls",
            "_view_module_version": "1.5.0",
            "_view_name": "ProgressView",
            "bar_style": "success",
            "description": "",
            "description_tooltip": null,
            "layout": "IPY_MODEL_82cb1715864440b3b1004555fada80d7",
            "max": 3250,
            "min": 0,
            "orientation": "horizontal",
            "style": "IPY_MODEL_449726b23e5d47c4887a0121bb2fd5b2",
            "value": 3250
          }
        },
        "449726b23e5d47c4887a0121bb2fd5b2": {
          "model_module": "@jupyter-widgets/controls",
          "model_module_version": "1.5.0",
          "model_name": "ProgressStyleModel",
          "state": {
            "_model_module": "@jupyter-widgets/controls",
            "_model_module_version": "1.5.0",
            "_model_name": "ProgressStyleModel",
            "_view_count": null,
            "_view_module": "@jupyter-widgets/base",
            "_view_module_version": "1.2.0",
            "_view_name": "StyleView",
            "bar_color": null,
            "description_width": ""
          }
        },
        "58109704fb0a4585bc04a68edf0f519c": {
          "model_module": "@jupyter-widgets/base",
          "model_module_version": "1.2.0",
          "model_name": "LayoutModel",
          "state": {
            "_model_module": "@jupyter-widgets/base",
            "_model_module_version": "1.2.0",
            "_model_name": "LayoutModel",
            "_view_count": null,
            "_view_module": "@jupyter-widgets/base",
            "_view_module_version": "1.2.0",
            "_view_name": "LayoutView",
            "align_content": null,
            "align_items": null,
            "align_self": null,
            "border": null,
            "bottom": null,
            "display": null,
            "flex": null,
            "flex_flow": null,
            "grid_area": null,
            "grid_auto_columns": null,
            "grid_auto_flow": null,
            "grid_auto_rows": null,
            "grid_column": null,
            "grid_gap": null,
            "grid_row": null,
            "grid_template_areas": null,
            "grid_template_columns": null,
            "grid_template_rows": null,
            "height": null,
            "justify_content": null,
            "justify_items": null,
            "left": null,
            "margin": null,
            "max_height": null,
            "max_width": null,
            "min_height": null,
            "min_width": null,
            "object_fit": null,
            "object_position": null,
            "order": null,
            "overflow": null,
            "overflow_x": null,
            "overflow_y": null,
            "padding": null,
            "right": null,
            "top": null,
            "visibility": null,
            "width": null
          }
        },
        "6a07f1e4e7e541f0a97a097ece001408": {
          "model_module": "@jupyter-widgets/base",
          "model_module_version": "1.2.0",
          "model_name": "LayoutModel",
          "state": {
            "_model_module": "@jupyter-widgets/base",
            "_model_module_version": "1.2.0",
            "_model_name": "LayoutModel",
            "_view_count": null,
            "_view_module": "@jupyter-widgets/base",
            "_view_module_version": "1.2.0",
            "_view_name": "LayoutView",
            "align_content": null,
            "align_items": null,
            "align_self": null,
            "border": null,
            "bottom": null,
            "display": null,
            "flex": null,
            "flex_flow": null,
            "grid_area": null,
            "grid_auto_columns": null,
            "grid_auto_flow": null,
            "grid_auto_rows": null,
            "grid_column": null,
            "grid_gap": null,
            "grid_row": null,
            "grid_template_areas": null,
            "grid_template_columns": null,
            "grid_template_rows": null,
            "height": null,
            "justify_content": null,
            "justify_items": null,
            "left": null,
            "margin": null,
            "max_height": null,
            "max_width": null,
            "min_height": null,
            "min_width": null,
            "object_fit": null,
            "object_position": null,
            "order": null,
            "overflow": null,
            "overflow_x": null,
            "overflow_y": null,
            "padding": null,
            "right": null,
            "top": null,
            "visibility": null,
            "width": null
          }
        },
        "6a2ff8c619da4f12aa195a3444a276f0": {
          "model_module": "@jupyter-widgets/controls",
          "model_module_version": "1.5.0",
          "model_name": "DescriptionStyleModel",
          "state": {
            "_model_module": "@jupyter-widgets/controls",
            "_model_module_version": "1.5.0",
            "_model_name": "DescriptionStyleModel",
            "_view_count": null,
            "_view_module": "@jupyter-widgets/base",
            "_view_module_version": "1.2.0",
            "_view_name": "StyleView",
            "description_width": ""
          }
        },
        "75af31922c9d43f7860b9d48c895d6f3": {
          "model_module": "@jupyter-widgets/controls",
          "model_module_version": "1.5.0",
          "model_name": "DescriptionStyleModel",
          "state": {
            "_model_module": "@jupyter-widgets/controls",
            "_model_module_version": "1.5.0",
            "_model_name": "DescriptionStyleModel",
            "_view_count": null,
            "_view_module": "@jupyter-widgets/base",
            "_view_module_version": "1.2.0",
            "_view_name": "StyleView",
            "description_width": ""
          }
        },
        "82cb1715864440b3b1004555fada80d7": {
          "model_module": "@jupyter-widgets/base",
          "model_module_version": "1.2.0",
          "model_name": "LayoutModel",
          "state": {
            "_model_module": "@jupyter-widgets/base",
            "_model_module_version": "1.2.0",
            "_model_name": "LayoutModel",
            "_view_count": null,
            "_view_module": "@jupyter-widgets/base",
            "_view_module_version": "1.2.0",
            "_view_name": "LayoutView",
            "align_content": null,
            "align_items": null,
            "align_self": null,
            "border": null,
            "bottom": null,
            "display": null,
            "flex": null,
            "flex_flow": null,
            "grid_area": null,
            "grid_auto_columns": null,
            "grid_auto_flow": null,
            "grid_auto_rows": null,
            "grid_column": null,
            "grid_gap": null,
            "grid_row": null,
            "grid_template_areas": null,
            "grid_template_columns": null,
            "grid_template_rows": null,
            "height": null,
            "justify_content": null,
            "justify_items": null,
            "left": null,
            "margin": null,
            "max_height": null,
            "max_width": null,
            "min_height": null,
            "min_width": null,
            "object_fit": null,
            "object_position": null,
            "order": null,
            "overflow": null,
            "overflow_x": null,
            "overflow_y": null,
            "padding": null,
            "right": null,
            "top": null,
            "visibility": null,
            "width": null
          }
        },
        "d5927ba08549449b82139a7b911405a0": {
          "model_module": "@jupyter-widgets/controls",
          "model_module_version": "1.5.0",
          "model_name": "HBoxModel",
          "state": {
            "_dom_classes": [],
            "_model_module": "@jupyter-widgets/controls",
            "_model_module_version": "1.5.0",
            "_model_name": "HBoxModel",
            "_view_count": null,
            "_view_module": "@jupyter-widgets/controls",
            "_view_module_version": "1.5.0",
            "_view_name": "HBoxView",
            "box_style": "",
            "children": [
              "IPY_MODEL_1b09ed04e2ab4aff93d9b94a6c78bede",
              "IPY_MODEL_3394e4c9f70e4874bd9c327c905ea198",
              "IPY_MODEL_fbf41b9b66e24edc994431766c9e1f88"
            ],
            "layout": "IPY_MODEL_ee3500acc5e340ee9860d422712ef3b2"
          }
        },
        "ee3500acc5e340ee9860d422712ef3b2": {
          "model_module": "@jupyter-widgets/base",
          "model_module_version": "1.2.0",
          "model_name": "LayoutModel",
          "state": {
            "_model_module": "@jupyter-widgets/base",
            "_model_module_version": "1.2.0",
            "_model_name": "LayoutModel",
            "_view_count": null,
            "_view_module": "@jupyter-widgets/base",
            "_view_module_version": "1.2.0",
            "_view_name": "LayoutView",
            "align_content": null,
            "align_items": null,
            "align_self": null,
            "border": null,
            "bottom": null,
            "display": null,
            "flex": null,
            "flex_flow": null,
            "grid_area": null,
            "grid_auto_columns": null,
            "grid_auto_flow": null,
            "grid_auto_rows": null,
            "grid_column": null,
            "grid_gap": null,
            "grid_row": null,
            "grid_template_areas": null,
            "grid_template_columns": null,
            "grid_template_rows": null,
            "height": null,
            "justify_content": null,
            "justify_items": null,
            "left": null,
            "margin": null,
            "max_height": null,
            "max_width": null,
            "min_height": null,
            "min_width": null,
            "object_fit": null,
            "object_position": null,
            "order": null,
            "overflow": null,
            "overflow_x": null,
            "overflow_y": null,
            "padding": null,
            "right": null,
            "top": null,
            "visibility": null,
            "width": null
          }
        },
        "fbf41b9b66e24edc994431766c9e1f88": {
          "model_module": "@jupyter-widgets/controls",
          "model_module_version": "1.5.0",
          "model_name": "HTMLModel",
          "state": {
            "_dom_classes": [],
            "_model_module": "@jupyter-widgets/controls",
            "_model_module_version": "1.5.0",
            "_model_name": "HTMLModel",
            "_view_count": null,
            "_view_module": "@jupyter-widgets/controls",
            "_view_module_version": "1.5.0",
            "_view_name": "HTMLView",
            "description": "",
            "description_tooltip": null,
            "layout": "IPY_MODEL_58109704fb0a4585bc04a68edf0f519c",
            "placeholder": "​",
            "style": "IPY_MODEL_75af31922c9d43f7860b9d48c895d6f3",
            "value": " 3250/3250 [00:00&lt;00:00, 3758.18 examples/s]"
          }
        }
      }
    }
  },
  "nbformat": 4,
  "nbformat_minor": 0
}
